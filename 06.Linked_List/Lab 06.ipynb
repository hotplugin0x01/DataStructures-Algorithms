{
 "cells": [
  {
   "cell_type": "code",
   "execution_count": 3,
   "metadata": {},
   "outputs": [],
   "source": [
    "class Node:\n",
    "    def __init__(self, value):\n",
    "        self.value = value\n",
    "        self.next = None"
   ]
  },
  {
   "cell_type": "code",
   "execution_count": 6,
   "metadata": {},
   "outputs": [],
   "source": [
    "class LinkedList:\n",
    "    def __init__(self):\n",
    "        self.head = None\n",
    "        self.tail = None\n",
    "        \n",
    "    def InsertatFirst(self, value):\n",
    "        n = Node(value)\n",
    "        n.next = self.head\n",
    "        if self.head == None:\n",
    "            self.tail = n\n",
    "        self.head = n\n",
    "        \n",
    "    def InsertatEnd(self, value):\n",
    "        n = Node(value)\n",
    "        self.tail.next = n\n",
    "        self.tail = n\n",
    "        \n",
    "    def Insertafter(self, item, value):\n",
    "        h = self.head\n",
    "        while h != None:\n",
    "            if h.value == item:\n",
    "                n = Node(value)\n",
    "                n.next = h.next\n",
    "                h.next = n\n",
    "                break\n",
    "            h = h.next\n",
    "            \n",
    "    def DeleteatFirst(self):\n",
    "        if self.head == None:\n",
    "            raise Exception('Underflow! List is empty!')\n",
    "        self.head = self.head.next\n",
    "        \n",
    "    def DeleteatEnd(self):\n",
    "        if self.head == None:\n",
    "            raise Exception('Underflow! List is empty!')\n",
    "        h = self.head\n",
    "        while h.next.next != None:\n",
    "            h = h.next\n",
    "        self.tail = h\n",
    "        self.tail.next = None\n",
    "    \n",
    "    def DeletebyValue(self, value):\n",
    "        h = self.head\n",
    "        \n",
    "        while h.next != None:\n",
    "            if h.next.value == value:\n",
    "                removed = h.next\n",
    "                h.next = h.next.next\n",
    "                removed.next = None\n",
    "                del removed\n",
    "                break\n",
    "            h = h.next\n",
    "            \n",
    "    def Print(self):\n",
    "        h = self.head\n",
    "        while h != None:\n",
    "            print(h.value)\n",
    "            h = h.next"
   ]
  },
  {
   "cell_type": "code",
   "execution_count": 46,
   "metadata": {},
   "outputs": [],
   "source": [
    "class Stack:\n",
    "    def __init__(self):\n",
    "        self.list = LinkedList()\n",
    "        \n",
    "    def Push(self, value):\n",
    "        self.list.InsertatEnd(value)\n",
    "        \n",
    "    def Pop(self):\n",
    "        self.list.DeleteatEnd()\n",
    "\n",
    "    def Print(self):\n",
    "        self.list.Print()"
   ]
  },
  {
   "cell_type": "code",
   "execution_count": 51,
   "metadata": {},
   "outputs": [],
   "source": [
    "class Queue:\n",
    "    def __init__(self):\n",
    "        self.list = LinkedList()\n",
    "        \n",
    "    def Enqueue(self, value):\n",
    "        self.list.InsertatEnd(value)\n",
    "        \n",
    "    def Dequeue(self):\n",
    "        self.list.DeleteatFirst()\n",
    "        \n",
    "    def Print(self):\n",
    "        self.list.Print()"
   ]
  }
 ],
 "metadata": {
  "kernelspec": {
   "display_name": "Python 3",
   "language": "python",
   "name": "python3"
  },
  "language_info": {
   "codemirror_mode": {
    "name": "ipython",
    "version": 3
   },
   "file_extension": ".py",
   "mimetype": "text/x-python",
   "name": "python",
   "nbconvert_exporter": "python",
   "pygments_lexer": "ipython3",
   "version": "3.8.3"
  }
 },
 "nbformat": 4,
 "nbformat_minor": 4
}
