{
 "cells": [
  {
   "cell_type": "code",
   "execution_count": 3,
   "metadata": {},
   "outputs": [],
   "source": [
    "# Node Class\n",
    "class Node:\n",
    "    def __init__(self, value):\n",
    "        self.value = value\n",
    "        self.next = None\n",
    "        self.previous = None"
   ]
  },
  {
   "cell_type": "code",
   "execution_count": 32,
   "metadata": {},
   "outputs": [],
   "source": [
    "# Doubly or Double Linked List\n",
    "class DoubleLinkedList:\n",
    "    def __init__(self):\n",
    "        self.head = None\n",
    "        self.tail = None\n",
    "        \n",
    "    def InsertatFirst(self, value):\n",
    "        n = Node(value)\n",
    "        n.next = self.head\n",
    "        if self.head == None:\n",
    "            self.tail = n\n",
    "        else:\n",
    "            self.head.previous = n\n",
    "        self.head = n\n",
    "        \n",
    "    def InsertatEnd(self, value):\n",
    "        if self.tail == None:\n",
    "            self.InsertatFirst(value)\n",
    "            return\n",
    "        \n",
    "        n = Node(value)\n",
    "        self.tail.next = n\n",
    "        n.previous = self.tail\n",
    "        self.tail = n\n",
    "        \n",
    "    def Insertafter(self, item, value):\n",
    "        h = self.head\n",
    "        while h != None:\n",
    "            if h.value == item:\n",
    "                n = Node(value)\n",
    "                n.previous = h\n",
    "                h.next = n\n",
    "                break\n",
    "            h = h.next\n",
    "            \n",
    "    def DeleteatFirst(self):\n",
    "        if self.head == None:\n",
    "            raise Exception('Underflow! List is empty!')\n",
    "        removed = self.head\n",
    "        self.head = self.head.next\n",
    "        if self.head != None:\n",
    "            self.head.previous = None\n",
    "            removed.next = None\n",
    "        del removed\n",
    "        \n",
    "    def DeleteatEnd(self):\n",
    "        if self.tail == None:\n",
    "            raise Exception('Underflow! List is empty!')\n",
    "        removed = self.tail\n",
    "        self.tail = self.tail.previous\n",
    "        self.tail.next = None\n",
    "        del removed\n",
    "    \n",
    "    def DeletebyValue(self, value):\n",
    "        h = self.head\n",
    "        \n",
    "        if h.value == value:\n",
    "            self.DeleteatFirst()\n",
    "            return\n",
    "        elif self.tail.value == value:\n",
    "            self.DeleteatEnd()\n",
    "            return\n",
    "        \n",
    "        while h != None:\n",
    "            if h.value == value:\n",
    "                removed = h.value\n",
    "                h.previous.next = h.next\n",
    "                h.next.previous = h.previous\n",
    "                h.previous = None\n",
    "                h.next = None\n",
    "                del removed\n",
    "                break\n",
    "            h = h.next\n",
    "            \n",
    "    def Print(self):\n",
    "        h = self.head\n",
    "        while h != None:\n",
    "            print(h.value)\n",
    "            h = h.next"
   ]
  },
  {
   "cell_type": "code",
   "execution_count": 34,
   "metadata": {},
   "outputs": [
    {
     "name": "stdout",
     "output_type": "stream",
     "text": [
      "2\n",
      "3\n",
      "4\n"
     ]
    }
   ],
   "source": [
    "# Driver Code\n",
    "obj = DoubleLinkedList()\n",
    "for i in range(1, 5):\n",
    "    obj.InsertatFirst(i)\n",
    "    obj.InsertatEnd(i+1)\n",
    "for i in range(3):\n",
    "    obj.DeleteatFirst()\n",
    "for i in range(2):\n",
    "    obj.DeleteatEnd()\n",
    "obj.DeletebyValue(1)\n",
    "obj.DeletebyValue(3)\n",
    "obj.Insertafter(2,3)\n",
    "obj.Insertafter(3,4)\n",
    "obj.Print()"
   ]
  }
 ],
 "metadata": {
  "kernelspec": {
   "display_name": "Python 3",
   "language": "python",
   "name": "python3"
  },
  "language_info": {
   "codemirror_mode": {
    "name": "ipython",
    "version": 3
   },
   "file_extension": ".py",
   "mimetype": "text/x-python",
   "name": "python",
   "nbconvert_exporter": "python",
   "pygments_lexer": "ipython3",
   "version": "3.8.3"
  }
 },
 "nbformat": 4,
 "nbformat_minor": 4
}
