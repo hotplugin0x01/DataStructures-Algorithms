{
 "cells": [
  {
   "cell_type": "code",
   "execution_count": 1,
   "metadata": {},
   "outputs": [
    {
     "name": "stdout",
     "output_type": "stream",
     "text": [
      "5\n",
      "4\n",
      "3\n",
      "2\n",
      "1\n"
     ]
    }
   ],
   "source": [
    "# a\n",
    "def Write(n):\n",
    "    if n == 0:\n",
    "        return\n",
    "    print(n)\n",
    "    Write(n-1)\n",
    "    \n",
    "Write(5)"
   ]
  },
  {
   "cell_type": "code",
   "execution_count": 2,
   "metadata": {},
   "outputs": [
    {
     "name": "stdout",
     "output_type": "stream",
     "text": [
      "120\n"
     ]
    }
   ],
   "source": [
    "# b\n",
    "def Factorial(n):\n",
    "    if n ==1 or n==1:\n",
    "        return 1\n",
    "    fact = n * Factorial(n-1)\n",
    "    return fact\n",
    "    \n",
    "print(Factorial(5))"
   ]
  },
  {
   "cell_type": "code",
   "execution_count": 3,
   "metadata": {},
   "outputs": [
    {
     "name": "stdout",
     "output_type": "stream",
     "text": [
      "4\n"
     ]
    }
   ],
   "source": [
    "# c\n",
    "def GCD(n1, n2):\n",
    "    if n2 == 0:\n",
    "        return n1\n",
    "    return GCD(n2, n1%n2)\n",
    "\n",
    "print(GCD(8, 12))"
   ]
  },
  {
   "cell_type": "code",
   "execution_count": 4,
   "metadata": {},
   "outputs": [
    {
     "name": "stdout",
     "output_type": "stream",
     "text": [
      "7\n"
     ]
    }
   ],
   "source": [
    "# d\n",
    "def BinarySearch(List, low, high, value):\n",
    "    if low > high:\n",
    "        return -1\n",
    "    mid = (low + high) // 2\n",
    "    if value > List[mid]:\n",
    "        return BinarySearch(List, mid+1, high, value)\n",
    "    elif value < List[mid]:\n",
    "        return BinarySearch(List, low, mid-1, value)\n",
    "    else:\n",
    "        return mid\n",
    "\n",
    "    \n",
    "data = [1,2,3,4,5,6,7,8,9]\n",
    "low = 0\n",
    "high = len(data) - 1\n",
    "value = 8\n",
    "print(BinarySearch(data, low, high, value))"
   ]
  },
  {
   "cell_type": "code",
   "execution_count": 1,
   "metadata": {},
   "outputs": [],
   "source": [
    "# e\n",
    "def Partition(Arr, left, right):\n",
    "    pivot = Arr[left]\n",
    "    low = left + 1\n",
    "    high = right\n",
    "    while True:\n",
    "        while low <= high and Arr[high] >= pivot:\n",
    "            high -=1\n",
    "        while low <= high and Arr[low] <= pivot:\n",
    "            low +=1\n",
    "        if low <= high:\n",
    "            Arr[low], Arr[high] = Arr[high], Arr[low]\n",
    "        else:\n",
    "            break\n",
    "    Arr[left], Arr[high] = Arr[high], Arr[left]\n",
    "    return high\n",
    "\n",
    "def QuickSort(Arr, left, right):\n",
    "    if left >= right:\n",
    "        return\n",
    "    part = Partition(Arr, left, right)\n",
    "    QuickSort(Arr, left, part-1)\n",
    "    QuickSort(Arr, part+1, right)"
   ]
  },
  {
   "cell_type": "code",
   "execution_count": 11,
   "metadata": {},
   "outputs": [
    {
     "name": "stdout",
     "output_type": "stream",
     "text": [
      "[1, 1, 2, 2, 2, 4, 5, 6, 7, 7, 8, 8, 35, 42, 323, 7943]\n"
     ]
    }
   ],
   "source": [
    "lst = [44,33,11,55,77,90,40,60,99,22,88,66]\n",
    "left = 0\n",
    "right = len(lst)-1\n",
    "QuickSort(lst, left, right)\n",
    "print(lst)"
   ]
  }
 ],
 "metadata": {
  "kernelspec": {
   "display_name": "Python 3",
   "language": "python",
   "name": "python3"
  },
  "language_info": {
   "codemirror_mode": {
    "name": "ipython",
    "version": 3
   },
   "file_extension": ".py",
   "mimetype": "text/x-python",
   "name": "python",
   "nbconvert_exporter": "python",
   "pygments_lexer": "ipython3",
   "version": "3.8.3"
  }
 },
 "nbformat": 4,
 "nbformat_minor": 4
}
