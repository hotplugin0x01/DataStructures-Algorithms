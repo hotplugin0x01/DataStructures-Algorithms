{
 "cells": [
  {
   "cell_type": "code",
   "execution_count": 1,
   "metadata": {},
   "outputs": [
    {
     "name": "stdout",
     "output_type": "stream",
     "text": [
      "Enter a number: 6\n",
      "Enter a number: 1\n",
      "Enter a number: 2\n",
      "Enter a number: 3\n",
      "Enter a number: 4\n",
      "Enter a number: 5\n",
      "[6, 2, 4]\n"
     ]
    }
   ],
   "source": [
    "# Question 01\n",
    "def EvenList(n):\n",
    "    even_lst = []\n",
    "    for count in range(n):\n",
    "        num = int(input(\"Enter a number: \"))\n",
    "        if num % 2 == 0:\n",
    "            even_lst.append(num)\n",
    "    return even_lst\n",
    "\n",
    "evenList = EvenList(6)\n",
    "print(evenList)"
   ]
  },
  {
   "cell_type": "code",
   "execution_count": 2,
   "metadata": {},
   "outputs": [
    {
     "name": "stdout",
     "output_type": "stream",
     "text": [
      "43\n"
     ]
    }
   ],
   "source": [
    "# Question 02\n",
    "def Max(List):\n",
    "    return sorted(List)[-1]\n",
    "\n",
    "lst = [1,2,3,5,6,8,9,43,21,4,-1,-0,-25]\n",
    "out = Max(lst)\n",
    "print(out)"
   ]
  },
  {
   "cell_type": "code",
   "execution_count": 3,
   "metadata": {},
   "outputs": [
    {
     "name": "stdout",
     "output_type": "stream",
     "text": [
      "-25\n"
     ]
    }
   ],
   "source": [
    "# Question 03\n",
    "def Min(List):\n",
    "    return sorted(List)[0]\n",
    "\n",
    "lst = [1,2,3,5,6,8,9,43,21,4,-1,-0,-25]\n",
    "out = Min(lst)\n",
    "print(out)"
   ]
  },
  {
   "cell_type": "code",
   "execution_count": 4,
   "metadata": {},
   "outputs": [
    {
     "name": "stdout",
     "output_type": "stream",
     "text": [
      "8\n"
     ]
    }
   ],
   "source": [
    "# Question 04\n",
    "def Last(List):\n",
    "    return List[-1]\n",
    "\n",
    "lst = [13,6,7,9,0,8]\n",
    "out = Last(lst)\n",
    "print(out)"
   ]
  },
  {
   "cell_type": "code",
   "execution_count": 54,
   "metadata": {},
   "outputs": [
    {
     "name": "stdout",
     "output_type": "stream",
     "text": [
      "5\n"
     ]
    }
   ],
   "source": [
    "# Question 05\n",
    "def KElement(List,k):\n",
    "    if not k > len(List)-1:\n",
    "        return List[k]\n",
    "\n",
    "num_lst = [1,2,3,4,5]\n",
    "k = 4\n",
    "out = KElement(num_lst, k)\n",
    "print(out)"
   ]
  },
  {
   "cell_type": "code",
   "execution_count": 6,
   "metadata": {},
   "outputs": [
    {
     "name": "stdout",
     "output_type": "stream",
     "text": [
      "7\n"
     ]
    }
   ],
   "source": [
    "# Question 06\n",
    "def SecondLast(List):\n",
    "    return List[-2]\n",
    "\n",
    "lst = [9,4,6,7,9]\n",
    "out = SecondLast(lst)\n",
    "print(out)"
   ]
  },
  {
   "cell_type": "code",
   "execution_count": 7,
   "metadata": {},
   "outputs": [
    {
     "name": "stdout",
     "output_type": "stream",
     "text": [
      "[6, 4, 3, 2, 1]\n"
     ]
    }
   ],
   "source": [
    "# Question 07\n",
    "def Reverse(List):\n",
    "    return List[::-1]\n",
    "\n",
    "lst = [1,2,3,4,6]\n",
    "out = Reverse(lst)\n",
    "print(out)"
   ]
  },
  {
   "cell_type": "code",
   "execution_count": 8,
   "metadata": {},
   "outputs": [
    {
     "name": "stdout",
     "output_type": "stream",
     "text": [
      "[2, 7, 8, 9, 4, 1, 3]\n"
     ]
    }
   ],
   "source": [
    "# Question 08\n",
    "def Unique(List):\n",
    "    unique_lst = []\n",
    "    for num in List:\n",
    "        if num not in unique_lst:\n",
    "            unique_lst.append(num)\n",
    "    return unique_lst\n",
    "\n",
    "lst = [2,2,7,8,9,4,4,4,2,1,3]\n",
    "out = Unique(lst)\n",
    "print(out)"
   ]
  },
  {
   "cell_type": "code",
   "execution_count": 16,
   "metadata": {},
   "outputs": [
    {
     "name": "stdout",
     "output_type": "stream",
     "text": [
      "Enter a number: 2\n",
      "Enter a number: 5\n",
      "Enter a number: 4\n",
      "Enter a number: 76\n",
      "Enter a number: 7\n",
      "Enter a number: 4\n",
      "Enter a number: 7\n",
      "Enter a number: 8\n",
      "Enter a number: 6\n",
      "Enter a number: 4\n",
      "4\n",
      "76\n",
      "2\n",
      "6\n"
     ]
    }
   ],
   "source": [
    "# Question 09\n",
    "def UserNumbers():\n",
    "    even_lst = []\n",
    "    for i in range(10):\n",
    "        num = int(input(\"Enter a number: \"))\n",
    "        if num % 2 == 0:\n",
    "            even_lst.append(num)\n",
    "    return even_lst[-1], max(even_lst), min(even_lst), even_lst[-2]\n",
    "    \n",
    "Last, Max, Min, secondLast = UserNumbers()\n",
    "print(Last, Max, Min, secondLast, sep=\"\\n\")"
   ]
  },
  {
   "cell_type": "code",
   "execution_count": 3,
   "metadata": {},
   "outputs": [
    {
     "name": "stdout",
     "output_type": "stream",
     "text": [
      "A quick brown fox jumps over the lazy dog A quick brown fox jumps over the lazy dog A quick brown fox jumps over the lazy dog A quick brown fox jumps over the lazy dog A quick brown fox jumps over the lazy dog "
     ]
    }
   ],
   "source": [
    "# Question 10\n",
    "def ShowExcitement():\n",
    "    for i in range(5):\n",
    "        print(\"A quick brown fox jumps over the lazy dog\", end=\" \")\n",
    "        \n",
    "ShowExcitement()"
   ]
  },
  {
   "cell_type": "code",
   "execution_count": 41,
   "metadata": {},
   "outputs": [
    {
     "name": "stdout",
     "output_type": "stream",
     "text": [
      "9\n"
     ]
    }
   ],
   "source": [
    "# Question 11\n",
    "def Greater(n1, n2, n3):\n",
    "    if (n1 > n2) and (n1 > n3):\n",
    "        return n1\n",
    "    elif (n2 > n1) and (n2 > n3):\n",
    "        return n2\n",
    "    else:\n",
    "        return n3\n",
    "    \n",
    "out = Greater(2, 9, 8)\n",
    "print(out)"
   ]
  },
  {
   "cell_type": "code",
   "execution_count": 45,
   "metadata": {},
   "outputs": [
    {
     "name": "stdout",
     "output_type": "stream",
     "text": [
      "Quotient: 2\n",
      "Remainder: 0\n"
     ]
    }
   ],
   "source": [
    "# Question 12\n",
    "def divide(dividend, divisor):\n",
    "    return dividend // divisor, dividend % divisor\n",
    "\n",
    "quotient, remainder = divide(100, 50)\n",
    "print(f\"Quotient: {quotient}\\nRemainder: {remainder}\")"
   ]
  },
  {
   "cell_type": "code",
   "execution_count": 32,
   "metadata": {},
   "outputs": [
    {
     "name": "stdout",
     "output_type": "stream",
     "text": [
      "18\n",
      "19\n"
     ]
    }
   ],
   "source": [
    "# Question 13\n",
    "class Person:\n",
    "    def __init__(self, name, age):\n",
    "        self.name = name\n",
    "        self.age = age\n",
    "        \n",
    "    def birthday(self):\n",
    "        self.age += 1\n",
    "        \n",
    "p1 = Person(\"XYZ\", 18)\n",
    "print(p1.age)\n",
    "p1.birthday()\n",
    "print(p1.age)"
   ]
  },
  {
   "cell_type": "code",
   "execution_count": 38,
   "metadata": {},
   "outputs": [
    {
     "name": "stdout",
     "output_type": "stream",
     "text": [
      "r= 2.23606797749979\n",
      "fi= 1.1071487177940904\n"
     ]
    }
   ],
   "source": [
    "# Home Task\n",
    "import cmath\n",
    "\n",
    "def PolarCoordinates(z):\n",
    "    return cmath.polar(z)\n",
    "\n",
    "z = 1+2j\n",
    "r, faye = PolarCoordinates(z)\n",
    "print(f\"r= {r}\\nfi= {faye}\")"
   ]
  }
 ],
 "metadata": {
  "kernelspec": {
   "display_name": "Python 3",
   "language": "python",
   "name": "python3"
  },
  "language_info": {
   "codemirror_mode": {
    "name": "ipython",
    "version": 3
   },
   "file_extension": ".py",
   "mimetype": "text/x-python",
   "name": "python",
   "nbconvert_exporter": "python",
   "pygments_lexer": "ipython3",
   "version": "3.7.6"
  }
 },
 "nbformat": 4,
 "nbformat_minor": 2
}
