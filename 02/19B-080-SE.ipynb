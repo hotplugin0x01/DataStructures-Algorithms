{
 "cells": [
  {
   "cell_type": "code",
   "execution_count": 79,
   "metadata": {},
   "outputs": [
    {
     "name": "stdout",
     "output_type": "stream",
     "text": [
      "0 0 \n",
      "\n",
      "0 0 \n",
      "\n",
      "-1 -1 \n",
      "\n",
      "[0, 0, 0, 0, -1, -3, -4, -6, -8, 0, 0, 0, 0, 0, 0]\n",
      "[0, 0, -1, 0, -1, 0]\n"
     ]
    }
   ],
   "source": [
    "# Q1 - a\n",
    "class Array:\n",
    "    def __init__(self, rows, cols):\n",
    "        self.rows = rows\n",
    "        self.cols = cols\n",
    "        self.data = [0 for i in range(self.rows * self.cols)]     \n",
    "        \n",
    "# Q1 - b\n",
    "    def Location(self, i, j):\n",
    "        if self.rows > self.cols:\n",
    "            return (i * self.cols + j)\n",
    "        return (i * self.rows + j)\n",
    "\n",
    "    def SetValue(self, i, j, v):\n",
    "        l = self.Location(i, j)\n",
    "        self.data[l] = v\n",
    "        \n",
    "# Q1 - c\n",
    "    def GetValue(self, i, j):\n",
    "        l = self.Location(i, j)\n",
    "        return self.data[l]\n",
    "        \n",
    "# Q1 - d\n",
    "    def PrintValues(self):\n",
    "        for i in range(self.rows):\n",
    "            for j in range(self.cols):\n",
    "                print(self.GetValue(i, j), end=\" \")\n",
    "            print(\"\\n\")\n",
    "\n",
    "# Q1 - e\n",
    "    def SubValues(self, array1, array2):\n",
    "        for i in range(self.rows):\n",
    "            for j in range(self.cols):\n",
    "                array1.data[self.Location(i, j)] -= array2.data[self.Location(i, j)]\n",
    "        return array1\n",
    "        \n",
    "        \n",
    "# Q1 - f\n",
    "    def MultValues(self, array1, array2):\n",
    "        if array1.cols == array2.rows:\n",
    "            product = [0 for i in range(array1.rows * array2.cols)]\n",
    "            for i in range(array1.rows):\n",
    "                for j in range(array2.cols):\n",
    "                    for k in range(array2.rows):\n",
    "                        product[self.Location(i, j)] += array1.data[self.Location(i, k)] * array2.data[self.Location(k, j)]\n",
    "            return product\n",
    "\n",
    "    \n",
    "# Q1 - g\n",
    "    def Transpose(self):\n",
    "        transpose = [0 for i in range(self.cols * self.rows)]\n",
    "        for i in range(self.rows):\n",
    "            for j in range(self.cols):   \n",
    "                transpose[self.Location(j, i)] = self.data[self.Location(i, j)] \n",
    "        return transpose\n",
    "\n",
    "    \n",
    "    \n",
    "# Driver Code\n",
    "def SettingValues(row, col, obj):\n",
    "    for i in range(row):\n",
    "        for j in range(col):\n",
    "            obj.SetValue(i, j, i+j) \n",
    "\n",
    "# Array1\n",
    "row = 3\n",
    "col = 2\n",
    "arr1 = Array(row, col)\n",
    "SettingValues(row, col, arr1)\n",
    "\n",
    "# Array2\n",
    "row = 2\n",
    "col = 5\n",
    "arr2 = Array(row, col)\n",
    "SettingValues(row, col, arr2)\n",
    "\n",
    "# Subtraction\n",
    "sub = arr1.SubValues(arr1, arr2)\n",
    "sub.PrintValues()\n",
    "\n",
    "# Mutiplication\n",
    "mult = arr1.MultValues(arr1, arr2)\n",
    "print(mult)\n",
    "\n",
    "# Transpose\n",
    "transpose = arr1.Transpose()\n",
    "print(transpose)"
   ]
  },
  {
   "cell_type": "code",
   "execution_count": 32,
   "metadata": {},
   "outputs": [
    {
     "name": "stdout",
     "output_type": "stream",
     "text": [
      "[[1 2 3 4]\n",
      " [5 6 7 8]]\n"
     ]
    }
   ],
   "source": [
    "# Q2-1\n",
    "import numpy as np\n",
    "array1 = np.array([[1,2,3,4], [5,6,7,8]], dtype=np.int64)\n",
    "print(array1)"
   ]
  },
  {
   "cell_type": "code",
   "execution_count": 13,
   "metadata": {},
   "outputs": [
    {
     "name": "stdout",
     "output_type": "stream",
     "text": [
      "[[1 1 1 1]\n",
      " [1 1 1 1]\n",
      " [1 1 1 1]]\n"
     ]
    }
   ],
   "source": [
    "# Q2-2\n",
    "x = np.ones((3,4), dtype=np.int64)\n",
    "print(x)"
   ]
  },
  {
   "cell_type": "code",
   "execution_count": 17,
   "metadata": {},
   "outputs": [
    {
     "name": "stdout",
     "output_type": "stream",
     "text": [
      "[[[0 0 0 0]\n",
      "  [0 0 0 0]\n",
      "  [0 0 0 0]]\n",
      "\n",
      " [[0 0 0 0]\n",
      "  [0 0 0 0]\n",
      "  [0 0 0 0]]]\n"
     ]
    }
   ],
   "source": [
    "# Q2-3\n",
    "y = np.zeros((2,3,4), dtype=np.int16)\n",
    "print(y)"
   ]
  },
  {
   "cell_type": "code",
   "execution_count": 18,
   "metadata": {},
   "outputs": [
    {
     "name": "stdout",
     "output_type": "stream",
     "text": [
      "[[0.32613011 0.29620576]\n",
      " [0.6058061  0.81829346]]\n"
     ]
    }
   ],
   "source": [
    "# Q2-4\n",
    "array2 = np.random.random((2,2))\n",
    "print(array2)"
   ]
  },
  {
   "cell_type": "code",
   "execution_count": 19,
   "metadata": {},
   "outputs": [
    {
     "name": "stdout",
     "output_type": "stream",
     "text": [
      "[[7 7 7]\n",
      " [7 7 7]\n",
      " [7 7 7]]\n"
     ]
    }
   ],
   "source": [
    "# Q2-5\n",
    "array3 = np.full((3,3), 7)\n",
    "print(array3)"
   ]
  },
  {
   "cell_type": "code",
   "execution_count": 21,
   "metadata": {},
   "outputs": [
    {
     "name": "stdout",
     "output_type": "stream",
     "text": [
      "[[1 0 0]\n",
      " [0 1 0]\n",
      " [0 0 1]]\n"
     ]
    }
   ],
   "source": [
    "# Q2-6\n",
    "array4 = np.identity(3, dtype=np.int64)\n",
    "print(array4)"
   ]
  },
  {
   "cell_type": "code",
   "execution_count": 23,
   "metadata": {},
   "outputs": [
    {
     "name": "stdout",
     "output_type": "stream",
     "text": [
      "[[[1 1 1 1]\n",
      "  [1 1 1 1]\n",
      "  [1 1 1 1]]\n",
      "\n",
      " [[1 1 1 1]\n",
      "  [1 1 1 1]\n",
      "  [1 1 1 1]]]\n"
     ]
    }
   ],
   "source": [
    "# Q2-7\n",
    "add = np.add(x,y)\n",
    "print(add)"
   ]
  },
  {
   "cell_type": "code",
   "execution_count": 24,
   "metadata": {},
   "outputs": [
    {
     "name": "stdout",
     "output_type": "stream",
     "text": [
      "[[[1 1 1 1]\n",
      "  [1 1 1 1]\n",
      "  [1 1 1 1]]\n",
      "\n",
      " [[1 1 1 1]\n",
      "  [1 1 1 1]\n",
      "  [1 1 1 1]]]\n"
     ]
    }
   ],
   "source": [
    "# Q2-8\n",
    "diff = np.subtract(x, y)\n",
    "print(diff)"
   ]
  },
  {
   "cell_type": "code",
   "execution_count": 27,
   "metadata": {},
   "outputs": [
    {
     "name": "stdout",
     "output_type": "stream",
     "text": [
      "[[[0 0 0 0]\n",
      "  [0 0 0 0]\n",
      "  [0 0 0 0]]\n",
      "\n",
      " [[0 0 0 0]\n",
      "  [0 0 0 0]\n",
      "  [0 0 0 0]]]\n"
     ]
    }
   ],
   "source": [
    "# Q2-9\n",
    "mult = np.multiply(x, y)\n",
    "print(mult)"
   ]
  },
  {
   "cell_type": "code",
   "execution_count": 28,
   "metadata": {},
   "outputs": [
    {
     "name": "stdout",
     "output_type": "stream",
     "text": [
      "[[[0. 0. 0. 0.]\n",
      "  [0. 0. 0. 0.]\n",
      "  [0. 0. 0. 0.]]\n",
      "\n",
      " [[0. 0. 0. 0.]\n",
      "  [0. 0. 0. 0.]\n",
      "  [0. 0. 0. 0.]]]\n"
     ]
    }
   ],
   "source": [
    "# Q2-10\n",
    "div = np.divide(y, x)\n",
    "print(div)"
   ]
  },
  {
   "cell_type": "code",
   "execution_count": 30,
   "metadata": {},
   "outputs": [
    {
     "name": "stdout",
     "output_type": "stream",
     "text": [
      "[[[0 0 0 0]\n",
      "  [0 0 0 0]\n",
      "  [0 0 0 0]]\n",
      "\n",
      " [[0 0 0 0]\n",
      "  [0 0 0 0]\n",
      "  [0 0 0 0]]]\n"
     ]
    }
   ],
   "source": [
    "# Q2-11\n",
    "rem = np.remainder(y, x)\n",
    "print(rem)"
   ]
  },
  {
   "cell_type": "code",
   "execution_count": 31,
   "metadata": {},
   "outputs": [
    {
     "name": "stdout",
     "output_type": "stream",
     "text": [
      "False\n"
     ]
    }
   ],
   "source": [
    "# Q2-12\n",
    "result = np.array_equal(x,y)\n",
    "print(result)"
   ]
  }
 ],
 "metadata": {
  "kernelspec": {
   "display_name": "Python 3",
   "language": "python",
   "name": "python3"
  },
  "language_info": {
   "codemirror_mode": {
    "name": "ipython",
    "version": 3
   },
   "file_extension": ".py",
   "mimetype": "text/x-python",
   "name": "python",
   "nbconvert_exporter": "python",
   "pygments_lexer": "ipython3",
   "version": "3.8.6"
  }
 },
 "nbformat": 4,
 "nbformat_minor": 2
}
