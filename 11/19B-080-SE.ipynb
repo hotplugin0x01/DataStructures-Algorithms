{
 "cells": [
  {
   "cell_type": "code",
   "execution_count": 1,
   "metadata": {},
   "outputs": [],
   "source": [
    "class StringOP:\n",
    "    def __init__(self, data):\n",
    "        self.data = data\n",
    "        \n",
    "    def StrLength(self):\n",
    "        count = 0\n",
    "        for i in self.data:\n",
    "            count +=1\n",
    "        return count\n",
    "    \n",
    "    def StrConcat(self, string1, string2):\n",
    "        newStr = ''\n",
    "        for i in string1+string2:\n",
    "            newStr+=i\n",
    "        return newStr\n",
    "\n",
    "    def SubString(self, text, start, end):\n",
    "        subStr = ''\n",
    "        for i in range(start, end+1):\n",
    "            subStr += text[i]\n",
    "        return subStr\n",
    "    \n",
    "    def InsertStr(self, data, text, pos):\n",
    "        newStr = ''\n",
    "        for i in range(len(data)):\n",
    "            if i == pos:\n",
    "                newStr = self.StrConcat(newStr, text)\n",
    "                continue\n",
    "            newStr+=data[i]\n",
    "        return newStr\n",
    "            \n",
    "    def DeleteStr(self, data, pos, length):\n",
    "        newStr = ''\n",
    "        for i in range(len(data)):\n",
    "            if i >= pos and i < pos+length:\n",
    "                continue\n",
    "            newStr+=data[i]\n",
    "        return newStr\n",
    "    \n",
    "    def Naive(self, data, pattern):\n",
    "        for i in range(0, len(data)):\n",
    "            if data[i:i+len(pattern)] == pattern:\n",
    "                return i\n",
    "        return -1"
   ]
  },
  {
   "cell_type": "code",
   "execution_count": 2,
   "metadata": {},
   "outputs": [
    {
     "name": "stdout",
     "output_type": "stream",
     "text": [
      "14\n",
      "Hello World\n",
      "llo\n",
      "Hello Abdul Wassay\n",
      "Hello A Wassay\n",
      "3\n"
     ]
    }
   ],
   "source": [
    "s = StringOP('Hello Pythonic')\n",
    "print(s.StrLength())\n",
    "print(s.StrConcat('Hello', ' World'))\n",
    "print(s.SubString('Hello', 2, 4))\n",
    "print(s.InsertStr('Hello Wassay', ' Abdul ', 5))\n",
    "print(s.DeleteStr('Hello Abdul Wassay', 7, 4))\n",
    "print(s.Naive('My name is Wassay.', 'na'))"
   ]
  }
 ],
 "metadata": {
  "kernelspec": {
   "display_name": "Python 3",
   "language": "python",
   "name": "python3"
  },
  "language_info": {
   "codemirror_mode": {
    "name": "ipython",
    "version": 3
   },
   "file_extension": ".py",
   "mimetype": "text/x-python",
   "name": "python",
   "nbconvert_exporter": "python",
   "pygments_lexer": "ipython3",
   "version": "3.8.3"
  }
 },
 "nbformat": 4,
 "nbformat_minor": 4
}
