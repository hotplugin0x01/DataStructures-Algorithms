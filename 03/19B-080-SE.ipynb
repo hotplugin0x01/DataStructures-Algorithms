{
 "cells": [
  {
   "cell_type": "code",
   "execution_count": 1,
   "metadata": {},
   "outputs": [],
   "source": [
    "# A\n",
    "def LinearSearch(List, Value):\n",
    "    for i in range(len(List)):\n",
    "        if List[i] == Value:\n",
    "            return i\n",
    "    return -1"
   ]
  },
  {
   "cell_type": "code",
   "execution_count": 2,
   "metadata": {},
   "outputs": [
    {
     "name": "stdout",
     "output_type": "stream",
     "text": [
      "-1\n"
     ]
    }
   ],
   "source": [
    "# Driver Code\n",
    "data = [1,2,3,4,5]\n",
    "print(LinearSearch(data, 6))"
   ]
  },
  {
   "cell_type": "code",
   "execution_count": 3,
   "metadata": {},
   "outputs": [],
   "source": [
    "# B\n",
    "def BinarySearch(List, n, Value):\n",
    "    l = 0\n",
    "    r = n - 1\n",
    "    while l <= r:\n",
    "        m = (l + r) // 2\n",
    "        \n",
    "        if List[m] < Value:\n",
    "            l = m + 1\n",
    "        \n",
    "        elif List[m] > Value:\n",
    "            r = m - 1\n",
    "            \n",
    "        else:\n",
    "            return m\n",
    "    return -1"
   ]
  },
  {
   "cell_type": "code",
   "execution_count": 4,
   "metadata": {},
   "outputs": [
    {
     "name": "stdout",
     "output_type": "stream",
     "text": [
      "2\n"
     ]
    }
   ],
   "source": [
    "# Driver Code\n",
    "data = [1,2,3,4,5,6,7,8,9]\n",
    "n = len(data)\n",
    "value = 3\n",
    "print(BinarySearch(data, n, value))"
   ]
  },
  {
   "cell_type": "code",
   "execution_count": 5,
   "metadata": {},
   "outputs": [],
   "source": [
    "# C\n",
    "class List:\n",
    "    def __init__(self):\n",
    "        self.data = []\n",
    "\n",
    "    \n",
    "    def InsertAtFirst(self, value):\n",
    "        self.data.insert(0, value)\n",
    "        \n",
    "    def InsertAtEnd(self, value):\n",
    "        self.data.append(value)\n",
    "        \n",
    "    def DeleteFromFirst(self):\n",
    "        deleted = self.data[0]\n",
    "        self.data = self.data[1:]\n",
    "        return deleted\n",
    "        \n",
    "    def DeleteFromEnd(self):\n",
    "        deleted = self.data[-1]\n",
    "        self.data = self.data[:-1]\n",
    "        return deleted\n",
    "        \n",
    "    def LinearSearch(self, Value):\n",
    "        for i in range(len(self.data)):\n",
    "            if self.data[i] == Value:\n",
    "                return i\n",
    "        return -1\n",
    "    \n",
    "    def BinarySearch(self, Value):\n",
    "        l = 0\n",
    "        r = len(self.data) - 1\n",
    "        while l <= r:\n",
    "            m = (l + r) // 2\n",
    "\n",
    "            if self.data[m] < Value:\n",
    "                l = m + 1\n",
    "\n",
    "            elif self.data[m] > Value:\n",
    "                r = m - 1\n",
    "\n",
    "            else:\n",
    "                return m\n",
    "            \n",
    "        return -1\n",
    "    \n",
    "    def IsSorted(self):\n",
    "        for i in range(len(self.data)-1):\n",
    "            if self.data[i] > self.data[i+1]:\n",
    "                return False\n",
    "        return True\n",
    "        \n",
    "    def Search(self, Value):\n",
    "        if self.IsSorted():\n",
    "            return self.BinarySearch(Value)\n",
    "        else:\n",
    "            return self.LinearSearch(Value)"
   ]
  },
  {
   "cell_type": "code",
   "execution_count": 6,
   "metadata": {},
   "outputs": [
    {
     "name": "stdout",
     "output_type": "stream",
     "text": [
      "6\n",
      "7\n",
      "2\n"
     ]
    }
   ],
   "source": [
    "# Driver Code\n",
    "obj = List()\n",
    "obj.InsertAtFirst(1)\n",
    "obj.InsertAtFirst(3)\n",
    "obj.InsertAtFirst(6)\n",
    "obj.InsertAtEnd(8)\n",
    "obj.InsertAtEnd(5)\n",
    "obj.InsertAtEnd(7)\n",
    "\n",
    "print(obj.DeleteFromFirst())\n",
    "print(obj.DeleteFromEnd())\n",
    "print(obj.Search(8))"
   ]
  }
 ],
 "metadata": {
  "kernelspec": {
   "display_name": "Python 3",
   "language": "python",
   "name": "python3"
  },
  "language_info": {
   "codemirror_mode": {
    "name": "ipython",
    "version": 3
   },
   "file_extension": ".py",
   "mimetype": "text/x-python",
   "name": "python",
   "nbconvert_exporter": "python",
   "pygments_lexer": "ipython3",
   "version": "3.8.6"
  }
 },
 "nbformat": 4,
 "nbformat_minor": 4
}
