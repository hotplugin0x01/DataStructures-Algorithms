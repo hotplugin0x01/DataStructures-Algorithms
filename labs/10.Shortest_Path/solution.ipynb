{
 "cells": [
  {
   "cell_type": "code",
   "execution_count": 1,
   "metadata": {},
   "outputs": [],
   "source": [
    "class Vertex:\n",
    "    def __init__(self, value):\n",
    "        self.value = value     # vertex number\n",
    "        self.dist = float('inf')\n",
    "        self.pi = value\n",
    "        self.visited = False"
   ]
  },
  {
   "cell_type": "code",
   "execution_count": 2,
   "metadata": {},
   "outputs": [],
   "source": [
    "# Min Priority Queue\n",
    "class PriorityQueue:\n",
    "    def __init__(self):\n",
    "        self.data = []\n",
    "        \n",
    "    def IsEmpty(self):\n",
    "        return len(self.data)==0\n",
    "    \n",
    "    def Enqueue(self, v):\n",
    "        # v will be object of vertex\n",
    "        self.data.append(v)\n",
    "        \n",
    "    def Dequeue(self):\n",
    "        removed = self.data[0]\n",
    "        self.data.remove(removed)\n",
    "        return removed\n",
    "    \n",
    "    def ExtractMin(self):\n",
    "        Min = self.__FindMin()\n",
    "        rem = self.data[Min]\n",
    "        self.data.remove(rem)\n",
    "        return rem\n",
    "    \n",
    "    def __FindMin(self):\n",
    "        Min = self.data[0]\n",
    "        loc = 0\n",
    "        for i in range(len(self.data)):\n",
    "            if self.data[i].dist < Min.dist:\n",
    "                Min = self.data[i]\n",
    "                loc = i\n",
    "        return loc"
   ]
  },
  {
   "cell_type": "code",
   "execution_count": 3,
   "metadata": {},
   "outputs": [],
   "source": [
    "class DGraph:\n",
    "    def __init__(self, vertex):\n",
    "        self.vertex = vertex\n",
    "        self.CostMatrix = [[0 for i in range(vertex)] for j in range(vertex)]\n",
    "\n",
    "    def AddDirectedEdges(self, src, dest, cost):\n",
    "        self.CostMatrix[src][dest] = cost\n",
    "        \n",
    "    def GetDirectedNeighbours(self, source):\n",
    "        neigh = []\n",
    "        for i in range(self.vertex):\n",
    "            if self.CostMatrix[source][i] > 0:\n",
    "                neigh.append(i)\n",
    "        return neigh\n",
    "    \n",
    "    def DijkstraShortestPath(self,source):\n",
    "        \n",
    "        # initialize empty list for vertex objects\n",
    "        cost = []\n",
    "        \n",
    "        # initialize p-queue\n",
    "        q = PriorityQueue()\n",
    "        \n",
    "        # create vertex objects\n",
    "        for i in range(self.vertex):\n",
    "            cost.append(Vertex(i))\n",
    "        \n",
    "        # set distances from src to vertex infinity\n",
    "        for i in range(self.vertex):\n",
    "            cost[i].dist = float('inf')\n",
    "        \n",
    "        # set source to source distance 0\n",
    "        cost[source].dist = 0\n",
    "        \n",
    "        # enqueue the cost list objects\n",
    "        for i in range(self.vertex):\n",
    "            q.Enqueue(cost[i])\n",
    "            \n",
    "        # visit \n",
    "        while not q.IsEmpty():\n",
    "            Min = q.ExtractMin()\n",
    "            Min.visited = True\n",
    "            neighbours = self.GetDirectedNeighbours(Min.value)\n",
    "            \n",
    "            for i in neighbours:\n",
    "                if cost[i].visited == False and cost[i].dist > Min.dist + self.CostMatrix[Min.value][i]:\n",
    "                    cost[i].dist = Min.dist + self.CostMatrix[Min.value][i]\n",
    "                    cost[i].pi = Min.value\n",
    "                    \n",
    "        for j in cost:\n",
    "            print(j.value, j.dist, j.pi)"
   ]
  },
  {
   "cell_type": "code",
   "execution_count": 4,
   "metadata": {},
   "outputs": [
    {
     "name": "stdout",
     "output_type": "stream",
     "text": [
      "0 0 0\n",
      "1 5 0\n",
      "2 1 0\n",
      "3 8 1\n",
      "4 7 2\n"
     ]
    }
   ],
   "source": [
    "# Driver code\n",
    "d = DGraph(5)\n",
    "d.AddDirectedEdges(0, 1, 5)\n",
    "d.AddDirectedEdges(0, 2, 1)\n",
    "d.AddDirectedEdges(1, 3, 3)\n",
    "d.AddDirectedEdges(2, 4, 6)\n",
    "d.AddDirectedEdges(3, 4, 2)\n",
    "d.DijkstraShortestPath(0)"
   ]
  }
 ],
 "metadata": {
  "kernelspec": {
   "display_name": "Python 3",
   "language": "python",
   "name": "python3"
  },
  "language_info": {
   "codemirror_mode": {
    "name": "ipython",
    "version": 3
   },
   "file_extension": ".py",
   "mimetype": "text/x-python",
   "name": "python",
   "nbconvert_exporter": "python",
   "pygments_lexer": "ipython3",
   "version": "3.8.3"
  }
 },
 "nbformat": 4,
 "nbformat_minor": 4
}
