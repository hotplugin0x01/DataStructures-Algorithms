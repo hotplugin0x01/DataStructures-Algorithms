{
 "cells": [
  {
   "cell_type": "code",
   "execution_count": 67,
   "metadata": {},
   "outputs": [
    {
     "name": "stdout",
     "output_type": "stream",
     "text": [
      "[66, 24, 65, 9, 99, 34, 83, 53, 89, 12]\n",
      "[9, 12, 24, 34, 53, 65, 66, 83, 89, 99]\n",
      "-1\n"
     ]
    }
   ],
   "source": [
    "import random\n",
    "class Sorting:\n",
    "    def __init__(self):\n",
    "        self.data = [44,33,11,55,77,90,40,60,99,22,88,66]\n",
    "    \n",
    "    def GenerateRandom(self, n):\n",
    "        self.data = random.sample(range(0,100), n)\n",
    "        return self.data\n",
    "        \n",
    "    def BubbleSort(self):\n",
    "        n = len(self.data)\n",
    "        for i in range(n):\n",
    "            for j in range(n-1):\n",
    "                if self.data[j] > self.data[j+1]:\n",
    "                    self.data[j], self.data[j+1] = self.data[j+1], self.data[j]\n",
    "        return self.data\n",
    "    \n",
    "    def Print(self):\n",
    "        print(self.data)\n",
    "    \n",
    "    def InsertionSort(self):\n",
    "        for i in range(1, len(self.data)):\n",
    "            key = self.data[i]\n",
    "            j = i-1\n",
    "            while j >= 0 and self.data[j] > key:\n",
    "                self.data[j+1] = self.data[j]\n",
    "                j = j-1\n",
    "            self.data[j+1] = key\n",
    "        return self.data\n",
    "    \n",
    "    \n",
    "    def SelectionSort(self):\n",
    "        n = len(self.data)\n",
    "        for i in range(n-1):\n",
    "            Min = i\n",
    "            for j in range(i+1, n):\n",
    "                if self.data[j] < self.data[Min]:\n",
    "                    Min = j\n",
    "            if self.data[Min] != i:\n",
    "                self.data[i], self.data[Min] = self.data[Min], self.data[i]\n",
    "        return self.data\n",
    "    \n",
    "    \n",
    "    def BinarySearch(self, Value):\n",
    "        l = 0\n",
    "        r = len(self.data) - 1\n",
    "        while l <= r:\n",
    "            m = (l+r) // 2\n",
    "            if Value > self.data[m]:\n",
    "                l = m+1\n",
    "            elif Value < self.data[m]:\n",
    "                r = m-1\n",
    "            else:\n",
    "                return m\n",
    "        return -1\n",
    "    \n",
    "    \n",
    "    def Search(self, Value):\n",
    "        for i in range(len(self.data)-1):\n",
    "            if self.data[i] > self.data[i+1]:\n",
    "                self.SelectionSort()\n",
    "                return self.BinarySearch(Value)\n",
    "        return self.BinarySearch(Value)\n",
    "    \n",
    "    \n",
    "# DriverCode\n",
    "obj = Sorting()\n",
    "obj.GenerateRandom(10)\n",
    "obj.Print()\n",
    "obj.BubbleSort()\n",
    "obj.InsertionSort()\n",
    "obj.SelectionSort()\n",
    "obj.Print()\n",
    "print(obj.Search(8))"
   ]
  }
 ],
 "metadata": {
  "kernelspec": {
   "display_name": "Python 3",
   "language": "python",
   "name": "python3"
  },
  "language_info": {
   "codemirror_mode": {
    "name": "ipython",
    "version": 3
   },
   "file_extension": ".py",
   "mimetype": "text/x-python",
   "name": "python",
   "nbconvert_exporter": "python",
   "pygments_lexer": "ipython3",
   "version": "3.8.3"
  }
 },
 "nbformat": 4,
 "nbformat_minor": 4
}
