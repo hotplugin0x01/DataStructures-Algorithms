{
 "cells": [
  {
   "cell_type": "code",
   "execution_count": 1,
   "metadata": {},
   "outputs": [],
   "source": [
    "from Stack_Queue import *"
   ]
  },
  {
   "cell_type": "code",
   "execution_count": 2,
   "metadata": {},
   "outputs": [],
   "source": [
    "class Graph:\n",
    "    def __init__(self, vertex):\n",
    "        self.vertex = vertex\n",
    "        self.adj = [[0 for i in range(vertex)] for j in range(vertex)]\n",
    "        \n",
    "    def AddEdge(self, src, dest):\n",
    "        self.adj[src][dest] = 1\n",
    "        self.adj[dest][src] = 1\n",
    "\n",
    "    def PrintMatrix(self):\n",
    "        for i in range(self.vertex):\n",
    "            for j in range(self.vertex):\n",
    "                print(self.adj[i][j], end =' ')\n",
    "            print()\n",
    "\n",
    "    def GetNeighbours(self, vertex):\n",
    "        neighbours = []\n",
    "        for i in range(len(self.adj[vertex])):\n",
    "            if self.adj[vertex][i] == 1:\n",
    "                neighbours.append(i)\n",
    "        return neighbours\n",
    "\n",
    "    def BFS(self, src):\n",
    "        neigh = []\n",
    "        visited = []\n",
    "        q = Queue(self.vertex)\n",
    "        q.Enqueue(src)\n",
    "        visited.append(src)  # mark source as visited\n",
    "\n",
    "        while not q.IsEmpty():\n",
    "            x = q.Dequeue()\n",
    "            print(f'Visited: {x}')\n",
    "            neigh = self.GetNeighbours(x)\n",
    "            \n",
    "            for n in neigh:\n",
    "                if n not in visited:\n",
    "                    q.Enqueue(n)\n",
    "                    visited.append(n)\n",
    "            \n",
    "    def DFS(self, src):\n",
    "        neigh = []\n",
    "        visited = []\n",
    "        s = Stack(self.vertex)\n",
    "        s.Push(src)\n",
    "        visited.append(src)  # mark source as visited\n",
    "        \n",
    "        while not s.IsEmpty():\n",
    "            x = s.Pop()\n",
    "            print(f'Visited: {x}')\n",
    "            neigh = self.GetNeighbours(x)\n",
    "            \n",
    "            for n in neigh:\n",
    "                if n not in visited:\n",
    "                    s.Push(n)\n",
    "                    visited.append(n)"
   ]
  },
  {
   "cell_type": "code",
   "execution_count": 3,
   "metadata": {},
   "outputs": [
    {
     "name": "stdout",
     "output_type": "stream",
     "text": [
      "0 1 1 0 0 \n",
      "1 0 0 1 0 \n",
      "1 0 0 0 0 \n",
      "0 1 0 0 1 \n",
      "0 0 0 1 0 \n",
      "[1, 2]\n"
     ]
    }
   ],
   "source": [
    "obj = Graph(5)\n",
    "obj.AddEdge(0, 1)\n",
    "obj.AddEdge(0, 2)\n",
    "obj.AddEdge(1, 3)\n",
    "obj.AddEdge(3, 4)\n",
    "obj.PrintMatrix()\n",
    "print(obj.GetNeighbours(0))"
   ]
  },
  {
   "cell_type": "code",
   "execution_count": 4,
   "metadata": {},
   "outputs": [
    {
     "name": "stdout",
     "output_type": "stream",
     "text": [
      "Visited: 0\n",
      "Visited: 1\n",
      "Visited: 2\n",
      "Visited: 3\n",
      "Visited: 4\n"
     ]
    }
   ],
   "source": [
    "obj.BFS(0)"
   ]
  },
  {
   "cell_type": "code",
   "execution_count": 5,
   "metadata": {},
   "outputs": [
    {
     "name": "stdout",
     "output_type": "stream",
     "text": [
      "Visited: 0\n",
      "Visited: 2\n",
      "Visited: 1\n",
      "Visited: 3\n",
      "Visited: 4\n"
     ]
    }
   ],
   "source": [
    "obj.DFS(0)"
   ]
  }
 ],
 "metadata": {
  "kernelspec": {
   "display_name": "Python 3",
   "language": "python",
   "name": "python3"
  },
  "language_info": {
   "codemirror_mode": {
    "name": "ipython",
    "version": 3
   },
   "file_extension": ".py",
   "mimetype": "text/x-python",
   "name": "python",
   "nbconvert_exporter": "python",
   "pygments_lexer": "ipython3",
   "version": "3.8.6"
  }
 },
 "nbformat": 4,
 "nbformat_minor": 4
}
